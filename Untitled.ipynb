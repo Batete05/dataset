{
 "cells": [
  {
   "cell_type": "code",
   "execution_count": 5,
   "id": "68e573f5-4017-4505-8241-146054fb7b25",
   "metadata": {},
   "outputs": [
    {
     "name": "stdout",
     "output_type": "stream",
     "text": [
      "color\n",
      "blue     0.5\n",
      "green    0.0\n",
      "red      1.0\n",
      "Name: target, dtype: float64\n"
     ]
    }
   ],
   "source": [
    "#target encoding\n",
    "import pandas as pd\n",
    "\n",
    "data={\n",
    "    \"color\":[\"red\",\"blue\",\"red\",\"blue\",\"green\"],\n",
    "    \"target\":[1,0,1,1,0]\n",
    "    \n",
    "}\n",
    "\n",
    "df=pd.DataFrame(data)\n",
    "target_enc=df.groupby(\"color\")['target'].mean()\n",
    "print(target_enc)\n"
   ]
  },
  {
   "cell_type": "code",
   "execution_count": 22,
   "id": "d2e5a3d3-8f50-4948-aa89-c393f86d5b65",
   "metadata": {},
   "outputs": [
    {
     "name": "stdout",
     "output_type": "stream",
     "text": [
      "   color_0  color_1\n",
      "0        0        1\n",
      "1        1        0\n",
      "2        0        1\n",
      "3        1        0\n",
      "4        1        1\n"
     ]
    }
   ],
   "source": [
    "#binary enconding\n",
    "import pandas as pd\n",
    "from category_encoders import BinaryEncoder  # Correct library and class\n",
    "\n",
    "data={\n",
    "    \"color\":[\"red\",\"blue\",\"red\",\"blue\",\"green\"],    \n",
    "}\n",
    "\n",
    "df=pd.DataFrame(data)\n",
    "\n",
    "encoder=BinaryEncoder(cols=['color'])\n",
    "df_binary_data=encoder.fit_transform(df)\n",
    "# target_enc=df.groupby(\"color\")['target'].mean()\n",
    "print(df_binary_data)\n"
   ]
  },
  {
   "cell_type": "code",
   "execution_count": null,
   "id": "3bcc8ba0-d832-4c36-bc94-8bd15b3b2b4b",
   "metadata": {},
   "outputs": [],
   "source": []
  }
 ],
 "metadata": {
  "kernelspec": {
   "display_name": "Python 3 (ipykernel)",
   "language": "python",
   "name": "python3"
  },
  "language_info": {
   "codemirror_mode": {
    "name": "ipython",
    "version": 3
   },
   "file_extension": ".py",
   "mimetype": "text/x-python",
   "name": "python",
   "nbconvert_exporter": "python",
   "pygments_lexer": "ipython3",
   "version": "3.12.7"
  }
 },
 "nbformat": 4,
 "nbformat_minor": 5
}
